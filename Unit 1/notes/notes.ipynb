{
 "cells": [
  {
   "cell_type": "markdown",
   "id": "5c485e9d",
   "metadata": {},
   "source": [
    "# Working with python variables"
   ]
  },
  {
   "cell_type": "markdown",
   "id": "667d0d89",
   "metadata": {},
   "source": []
  },
  {
   "cell_type": "markdown",
   "id": "11c26a6a",
   "metadata": {},
   "source": [
    "Structure of creating a variable\n",
    "[variable_name] [assignment operator] [value]\n",
    "myVar = \"blah\"\n",
    "\n",
    "### What are the data types in python\n",
    "1.strings - anything inside of \" \" or ' '\n",
    "2.booleans - True/false\n",
    "3.intergers - whole numbers, even or odd\n",
    "4.floats - any number with a decimal"
   ]
  },
  {
   "cell_type": "code",
   "execution_count": 10,
   "id": "7fee0453",
   "metadata": {},
   "outputs": [
    {
     "name": "stdout",
     "output_type": "stream",
     "text": [
      "3.9\n",
      "3.9\n"
     ]
    }
   ],
   "source": [
    "# Variable Reassignment\n",
    "\n",
    "# A student's GPA throughout highschool\n",
    "student_gpa = 3.2 #freshman year\n",
    "student_gpa = 3.4 #sophomore year\n",
    "student_gpa = 3.7 #junior year\n",
    "student_gpa = 3.9 #senior year\n",
    "print(student_gpa) \n",
    "\n",
    "#output: 3.9\n",
    "\n",
    "#If you need to store all data\n",
    "student_gpa_fr = 3.2\n",
    "student_gpa_so = 3.4\n",
    "student_gpa_ju = 3.7\n",
    "student_gpa_se = 3.9\n",
    "print(student_gpa_se)\n"
   ]
  },
  {
   "cell_type": "code",
   "execution_count": null,
   "id": "3305a265",
   "metadata": {},
   "outputs": [],
   "source": [
    "# Sports Team statistics\n",
    "\n",
    "#basketball team variables\n",
    "team_name = \"riverside Ravens\"\n",
    "wins = 18\n",
    "losses = 7\n",
    "points_scored = 1456\n",
    "points_allowed = 1298\n",
    "leading_scorer = \"Jordan Thompson\""
   ]
  },
  {
   "cell_type": "code",
   "execution_count": 5,
   "id": "66c98258",
   "metadata": {},
   "outputs": [
    {
     "name": "stdout",
     "output_type": "stream",
     "text": [
      "Hello, Jonathan Robinson RObinspon!\n"
     ]
    }
   ],
   "source": [
    "# the input function\n",
    " \n",
    "#input(\"What is your name? \")\n",
    "\n",
    "first_name = input(\"What is your first name? \")\n",
    "last_name = input(\"What is your last name? \")\n",
    "\n",
    "print(\"Hello, \" + first_name + \" \" + last_name + \"!\")"
   ]
  },
  {
   "cell_type": "markdown",
   "id": "8e701e7b",
   "metadata": {},
   "source": [
    "# Four computational processes\n",
    "\n",
    "- Input\n",
    "- processing\n",
    "- Output\n",
    "- Storage (memory)"
   ]
  },
  {
   "cell_type": "markdown",
   "id": "c9bd1989",
   "metadata": {},
   "source": [
    "## Escape Sequences\n",
    "\n",
    "**Escape Sequence** - The way python expresses special characters, such as the tab, the newline, and the backspace as Literals\n",
    "\n",
    "<table>\n",
    "    <tr>\n",
    "        <th>Escape Sequence</th>\n",
    "        <th>Meaning</th>\n",
    "    </tr>\n",
    "    <tr>\n",
    "        <td>\\b</td>\n",
    "        <td>Backspace</td>\n",
    "    </tr>\n",
    "    <tr>\n",
    "        <td>\\n</td>\n",
    "        <td>newline</td>\n",
    "    </tr>\n",
    "    <tr>\n",
    "        <td>\\t</td>\n",
    "        <td>Horizonal tab</td>\n",
    "    </tr>\n",
    "    <tr>\n",
    "        <td>\\\\</td>\n",
    "        <td>The \\ Character</td>\n",
    "    </tr>\n",
    "    <tr>\n",
    "        <td>\\'</td>\n",
    "        <td>single quotation mark</td>\n",
    "    </tr>\n",
    "    <tr>\n",
    "        <td>\\\"</td>\n",
    "        <td>Double quotation mark</td>\n",
    "    </tr>\n",
    "    </table>"
   ]
  },
  {
   "cell_type": "markdown",
   "metadata": {},
   "source": []
  }
 ],
 "metadata": {
  "kernelspec": {
   "display_name": "Python 3",
   "language": "python",
   "name": "python3"
  },
  "language_info": {
   "codemirror_mode": {
    "name": "ipython",
    "version": 3
   },
   "file_extension": ".py",
   "mimetype": "text/x-python",
   "name": "python",
   "nbconvert_exporter": "python",
   "pygments_lexer": "ipython3",
   "version": "3.12.1"
  }
 },
 "nbformat": 4,
 "nbformat_minor": 5
}
