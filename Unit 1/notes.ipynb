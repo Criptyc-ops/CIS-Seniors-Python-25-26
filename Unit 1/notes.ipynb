{
 "cells": [
  {
   "cell_type": "markdown",
   "id": "5c485e9d",
   "metadata": {},
   "source": [
    "# Working with python variables"
   ]
  },
  {
   "cell_type": "markdown",
   "id": "11c26a6a",
   "metadata": {},
   "source": [
    "Structure of creating a variable\n",
    "[variable_name] [assignment operator] [value]\n",
    "myVar = \"blah\"\n",
    "\n",
    "### What are the data types in python\n",
    "1.strings - anything inside of \" \" or ' '\n",
    "2.booleans - True/false\n",
    "3.intergers - whole numbers, even or odd\n",
    "4.floats - any number with a decimal"
   ]
  },
  {
   "cell_type": "code",
   "execution_count": 10,
   "id": "7fee0453",
   "metadata": {},
   "outputs": [
    {
     "name": "stdout",
     "output_type": "stream",
     "text": [
      "3.9\n",
      "3.9\n"
     ]
    }
   ],
   "source": [
    "# Variable Reassignment\n",
    "\n",
    "# A student's GPA throughout highschool\n",
    "student_gpa = 3.2 #freshman year\n",
    "student_gpa = 3.4 #sophomore year\n",
    "student_gpa = 3.7 #junior year\n",
    "student_gpa = 3.9 #senior year\n",
    "print(student_gpa) \n",
    "\n",
    "#output: 3.9\n",
    "\n",
    "#If you need to store all data\n",
    "student_gpa_fr = 3.2\n",
    "student_gpa_so = 3.4\n",
    "student_gpa_ju = 3.7\n",
    "student_gpa_se = 3.9\n",
    "print(student_gpa_se)\n"
   ]
  },
  {
   "cell_type": "code",
   "execution_count": null,
   "id": "3305a265",
   "metadata": {},
   "outputs": [],
   "source": []
  }
 ],
 "metadata": {
  "kernelspec": {
   "display_name": "Python 3",
   "language": "python",
   "name": "python3"
  },
  "language_info": {
   "codemirror_mode": {
    "name": "ipython",
    "version": 3
   },
   "file_extension": ".py",
   "mimetype": "text/x-python",
   "name": "python",
   "nbconvert_exporter": "python",
   "pygments_lexer": "ipython3",
   "version": "3.12.1"
  }
 },
 "nbformat": 4,
 "nbformat_minor": 5
}
